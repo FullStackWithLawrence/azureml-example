{
  "cells": [
    {
      "cell_type": "markdown",
      "metadata": {},
      "source": [
        "# 📓 House Prices Regression Demo using Kaggle Dataset\n"
      ]
    },
    {
      "cell_type": "markdown",
      "metadata": {},
      "source": [
        "## Step 1: Setup Kaggle API and Download Dataset\n",
        "\n",
        "We'll use the Kaggle API to download the House Prices dataset. To do this, you need to upload your `kaggle.json` file, which contains your API credentials.\n",
        "\n",
        "- Go to [https://www.kaggle.com/account](https://www.kaggle.com/account)\n",
        "- Scroll down to the \"API\" section\n",
        "- Click “Create New API Token”\n",
        "- Save the downloaded `kaggle.json` file\n",
        "- Upload it when prompted below"
      ]
    },
    {
      "cell_type": "code",
      "execution_count": null,
      "metadata": {},
      "outputs": [],
      "source": [
        "# Skip uploading kaggle.json. Assume it already exists at ~/.kaggle/kaggle.json\n",
        "!pip install -q kaggle\n",
        "\n",
        "\n",
        "# Upload the kaggle.json file (from your local computer)\n",
        "from google.colab import files\n",
        "files.upload()  # Choose kaggle.json when prompted\n",
        "\n",
        "# Move the file to the right location\n",
        "!mkdir -p /root/.kaggle\n",
        "!cp kaggle.json /root/.kaggle/\n",
        "!chmod 600 /root/.kaggle/kaggle.json\n",
        "\n",
        "# Download the House Prices dataset from Kaggle\n",
        "!kaggle competitions download -c house-prices-advanced-regression-techniques\n",
        "!unzip -q house-prices-advanced-regression-techniques.zip -d house_prices\n",
        "\n"
      ]
    },
    {
      "cell_type": "markdown",
      "metadata": {},
      "source": [
        "## Step 2: Load and Inspect the Data\n",
        "\n",
        "Now that we have the dataset, let's load it into a pandas DataFrame and take a quick look at the structure.\n",
        "\n",
        "We'll use the `train.csv` file, which includes both the input features and the target variable (`SalePrice`)."
      ]
    },
    {
      "cell_type": "code",
      "execution_count": null,
      "metadata": {},
      "outputs": [],
      "source": [
        "import pandas as pd\n",
        "\n",
        "df = pd.read_csv(\"house_prices/train.csv\")\n",
        "print(\"Shape of dataset:\", df.shape)\n",
        "df.head()"
      ]
    },
    {
      "cell_type": "markdown",
      "metadata": {},
      "source": [
        "## Step 3: Preprocess the Data\n",
        "\n",
        "To keep this demo simple, we'll do the following:\n",
        "\n",
        "1. Keep only numeric features (to avoid complex encoding for now).\n",
        "2. Drop columns with missing values.\n",
        "3. Separate our input features (`X`) and the target variable (`y`)."
      ]
    },
    {
      "cell_type": "code",
      "execution_count": null,
      "metadata": {},
      "outputs": [],
      "source": [
        "# Keep only numeric columns\n",
        "df_numeric = df.select_dtypes(include=[\"number\"])\n",
        "\n",
        "# Drop columns with missing values\n",
        "df_clean = df_numeric.dropna(axis=1)\n",
        "\n",
        "# Separate features (X) and target (y)\n",
        "X = df_clean.drop(\"SalePrice\", axis=1)\n",
        "y = df_clean[\"SalePrice\"]"
      ]
    },
    {
      "cell_type": "markdown",
      "metadata": {},
      "source": [
        "## Step 4: Train-Test Split\n",
        "\n",
        "To evaluate our model fairly, we'll split the data into training and testing sets.  \n",
        "This means the model will learn from one part and be tested on another, unseen part."
      ]
    },
    {
      "cell_type": "code",
      "execution_count": null,
      "metadata": {},
      "outputs": [],
      "source": [
        "from sklearn.model_selection import train_test_split\n",
        "\n",
        "X_train, X_test, y_train, y_test = train_test_split(\n",
        "    X, y, test_size=0.2, random_state=42\n",
        ")"
      ]
    },
    {
      "cell_type": "markdown",
      "metadata": {},
      "source": [
        "## Step 5: Train a Linear Regression Model\n",
        "\n",
        "We'll use **Linear Regression**, one of the simplest and most interpretable machine learning models for regression tasks."
      ]
    },
    {
      "cell_type": "code",
      "execution_count": null,
      "metadata": {},
      "outputs": [],
      "source": [
        "from sklearn.linear_model import LinearRegression\n",
        "\n",
        "model = LinearRegression()\n",
        "model.fit(X_train, y_train)"
      ]
    },
    {
      "cell_type": "markdown",
      "metadata": {},
      "source": [
        "## Step 6: Evaluate the Model\n",
        "\n",
        "After training the model, we want to check how well it's performing.\n",
        "\n",
        "We'll use:\n",
        "- **Root Mean Squared Error (RMSE)**: how far predictions are from actual prices\n",
        "- **R² Score**: how much of the variance in house prices is explained by our features"
      ]
    },
    {
      "cell_type": "code",
      "execution_count": null,
      "metadata": {},
      "outputs": [],
      "source": [
        "from sklearn.metrics import mean_squared_error, r2_score\n",
        "\n",
        "y_pred = model.predict(X_test)\n",
        "\n",
        "rmse = mean_squared_error(y_test, y_pred, squared=False)\n",
        "r2 = r2_score(y_test, y_pred)\n",
        "\n",
        "print(f\"RMSE: {rmse:.2f}\")\n",
        "print(f\"R² Score: {r2:.2f}\")"
      ]
    },
    {
      "cell_type": "markdown",
      "metadata": {},
      "source": [
        "## Step 7: Visualize Predictions\n",
        "\n",
        "A scatter plot of predicted prices vs. actual prices helps us visually assess model performance.  \n",
        "If predictions are perfect, points will lie along the diagonal."
      ]
    },
    {
      "cell_type": "code",
      "execution_count": null,
      "metadata": {},
      "outputs": [],
      "source": [
        "import matplotlib.pyplot as plt\n",
        "\n",
        "plt.figure(figsize=(8, 6))\n",
        "plt.scatter(y_test, y_pred, alpha=0.5)\n",
        "plt.plot([y_test.min(), y_test.max()], [y_test.min(), y_test.max()], 'r--')\n",
        "plt.xlabel(\"Actual Sale Price\")\n",
        "plt.ylabel(\"Predicted Sale Price\")\n",
        "plt.title(\"Predicted vs. Actual House Prices\")\n",
        "plt.grid(True)\n",
        "plt.show()"
      ]
    },
    {
      "cell_type": "markdown",
      "metadata": {},
      "source": [
        "## ✅ Summary\n",
        "\n",
        "In this notebook, we:\n",
        "- Downloaded real-world housing data from Kaggle\n",
        "- Cleaned and prepared the data\n",
        "- Trained a basic regression model using Linear Regression\n",
        "- Evaluated and visualized the results\n",
        "\n",
        "This is just a starting point. You can improve the model by:\n",
        "- Handling categorical variables (e.g., one-hot encoding)\n",
        "- Filling in missing values instead of dropping them\n",
        "- Trying other models like Decision Trees or XGBoost\n",
        "- Performing feature selection and engineering"
      ]
    }
  ],
  "metadata": {
    "kernelspec": {
      "display_name": "Python 3",
      "language": "python",
      "name": "python3"
    },
    "language_info": {
      "name": "python",
      "version": ""
    }
  },
  "nbformat": 4,
  "nbformat_minor": 5
}
